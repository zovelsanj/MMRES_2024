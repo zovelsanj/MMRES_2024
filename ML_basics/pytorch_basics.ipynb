{
  "nbformat": 4,
  "nbformat_minor": 0,
  "metadata": {
    "colab": {
      "provenance": []
    },
    "kernelspec": {
      "name": "python3",
      "display_name": "Python 3"
    },
    "language_info": {
      "name": "python"
    }
  },
  "cells": [
    {
      "cell_type": "markdown",
      "source": [
        "# PyTorch Basics\n",
        "PyTorch is an automatic differentiation framework that, essentially, is your NumPy for machine learning and anything that involves exact derivatives. PyTorch natively supports hardware accelerators, such as GPUs, that can significantly speed up matrix multiplication operations, as well as distributed computing to handle large workloads.\n",
        "\n",
        "The main element of PyTorch is a tensor, which behaves very similarly to NumPy arrays"
      ],
      "metadata": {
        "id": "JuhxY_xHWFt1"
      }
    },
    {
      "cell_type": "code",
      "execution_count": null,
      "metadata": {
        "id": "zpaK-GPWTTQw"
      },
      "outputs": [],
      "source": [
        "import torch"
      ]
    },
    {
      "cell_type": "code",
      "source": [
        "tensor1 = torch.rand(2, 3)\n",
        "tensor2 = torch.rand(2, 3)"
      ],
      "metadata": {
        "id": "x-BMnxZ1TeML"
      },
      "execution_count": null,
      "outputs": []
    },
    {
      "cell_type": "code",
      "source": [
        "tensor3 = tensor1 @ tensor2.T\n",
        "tensor3"
      ],
      "metadata": {
        "colab": {
          "base_uri": "https://localhost:8080/"
        },
        "id": "G2fz-Xi4TiQo",
        "outputId": "8c525a22-8abc-43b8-e326-46376bde93a5"
      },
      "execution_count": null,
      "outputs": [
        {
          "output_type": "execute_result",
          "data": {
            "text/plain": [
              "tensor([[1.3841, 0.2584],\n",
              "        [1.4727, 0.1718]])"
            ]
          },
          "metadata": {},
          "execution_count": 21
        }
      ]
    },
    {
      "cell_type": "markdown",
      "source": [
        "Tensors have `requires_grad` a property that indicates whether gradients should be computed with respect to their values. By default, this is set to `False`."
      ],
      "metadata": {
        "id": "DvCiSx0sWREm"
      }
    },
    {
      "cell_type": "code",
      "source": [
        "tensor1.requires_grad = True\n",
        "tensor2.requires_grad = True"
      ],
      "metadata": {
        "id": "yZd7JvzDTpa3"
      },
      "execution_count": null,
      "outputs": []
    },
    {
      "cell_type": "markdown",
      "source": [
        "However, if we set it to `True`, we will be able to compute the gradient of scalar quantities with respect to the tensor.\n",
        "Let's consider a simple example where we add the sine and cosine of both tensors:\n",
        "$$\\sum_i\\sin(a_i) + \\cos(b_i)$$\n",
        "\n",
        "## Derivatives\n",
        "Recall that $\\frac{d}{dx}\\sin(x) = \\cos(x)$ and $\\frac{d}{dx}\\cos(x) = -\\sin(x)$.\n"
      ],
      "metadata": {
        "id": "X1CB0i5WWqlv"
      }
    },
    {
      "cell_type": "code",
      "source": [
        "value = torch.sum(torch.sin(tensor1) + torch.cos(tensor2))\n",
        "value.backward()"
      ],
      "metadata": {
        "id": "rYwD_NGaT_oJ"
      },
      "execution_count": null,
      "outputs": []
    },
    {
      "cell_type": "markdown",
      "source": [
        "The result of the sum, `value`, is also a tensor.\n",
        "When we call the `backward` method, it computes the gradient over all the tensors that have been involved in its calculation.\n",
        "The resulting gradients are stored in the tensors themselves."
      ],
      "metadata": {
        "id": "73BKn_YTW9gV"
      }
    },
    {
      "cell_type": "code",
      "source": [
        "tensor1.grad, tensor2.grad"
      ],
      "metadata": {
        "colab": {
          "base_uri": "https://localhost:8080/"
        },
        "id": "VUp3-e4iUOwI",
        "outputId": "3a22ee7b-5ea7-4820-8c04-7c24f91c565a"
      },
      "execution_count": null,
      "outputs": [
        {
          "output_type": "execute_result",
          "data": {
            "text/plain": [
              "(tensor([[0.5658, 0.9934, 0.9035],\n",
              "         [0.9667, 0.7606, 0.7177]]),\n",
              " tensor([[-0.8308, -0.7944, -0.6745],\n",
              "         [-0.2316, -0.1101, -0.0433]]))"
            ]
          },
          "metadata": {},
          "execution_count": 25
        }
      ]
    },
    {
      "cell_type": "code",
      "source": [
        "torch.sin(tensor1), torch.cos(tensor2)"
      ],
      "metadata": {
        "colab": {
          "base_uri": "https://localhost:8080/"
        },
        "id": "kWlzBDEYUjJC",
        "outputId": "b6f0def9-ec9a-4546-e234-7b7c83fdcc09"
      },
      "execution_count": null,
      "outputs": [
        {
          "output_type": "execute_result",
          "data": {
            "text/plain": [
              "(tensor([[0.8245, 0.1149, 0.4285],\n",
              "         [0.2559, 0.6492, 0.6964]], grad_fn=<SinBackward0>),\n",
              " tensor([[0.5566, 0.6073, 0.7382],\n",
              "         [0.9728, 0.9939, 0.9991]], grad_fn=<CosBackward0>))"
            ]
          },
          "metadata": {},
          "execution_count": 26
        }
      ]
    },
    {
      "cell_type": "markdown",
      "source": [
        "## Zero out gradients\n",
        "\n",
        "Subsequent gradient computations with respect to the same tensor will add the new gradient to the previous one. We must take this into account and reset the gradients manually when needed. In machine learning applications, we hardly ever zero out gradients at the tensor level.\n",
        "We typically rely on the `zero_grad()` method from either our [optimizer](https://pytorch.org/docs/stable/optim.html#torch.optim.Optimizer) or [module](https://pytorch.org/docs/stable/generated/torch.nn.Module.html) to reset the gradients.\n",
        "See [the docs](https://pytorch.org/tutorials/recipes/recipes/zeroing_out_gradients.html) for further details.\n",
        "\n",
        "To reset the gradients of a tensor, we can manually set them to `None` or zero."
      ],
      "metadata": {
        "id": "4AYvi2XBXNJG"
      }
    },
    {
      "cell_type": "code",
      "source": [
        "tensor1.grad.zero_()"
      ],
      "metadata": {
        "colab": {
          "base_uri": "https://localhost:8080/"
        },
        "id": "VuNilpj7UwtD",
        "outputId": "bceaf39c-4f1d-4326-d986-51c5d75d2a38"
      },
      "execution_count": null,
      "outputs": [
        {
          "output_type": "execute_result",
          "data": {
            "text/plain": [
              "tensor([[0., 0., 0.],\n",
              "        [0., 0., 0.]])"
            ]
          },
          "metadata": {},
          "execution_count": 29
        }
      ]
    },
    {
      "cell_type": "code",
      "source": [
        "tensor1.grad"
      ],
      "metadata": {
        "colab": {
          "base_uri": "https://localhost:8080/"
        },
        "id": "U9Z67ANWVvjp",
        "outputId": "8903f3e1-ae00-4cb6-8e28-4111c74d9674"
      },
      "execution_count": null,
      "outputs": [
        {
          "output_type": "execute_result",
          "data": {
            "text/plain": [
              "tensor([[0., 0., 0.],\n",
              "        [0., 0., 0.]])"
            ]
          },
          "metadata": {},
          "execution_count": 32
        }
      ]
    },
    {
      "cell_type": "markdown",
      "source": [
        "# Basics of Neural Network\n",
        "\n",
        "### Task and data\n",
        "\n",
        "Use the MNIST dataset, which is composed of hand-written digit images from 0 to 9. The task is to classify those images into their respective digits."
      ],
      "metadata": {
        "id": "fTS2qDQUXonl"
      }
    },
    {
      "cell_type": "code",
      "source": [
        "import matplotlib.pyplot as plt\n",
        "\n",
        "from torchvision.datasets import MNIST\n",
        "from torchvision.transforms import ToTensor\n",
        "from torch.utils.data import DataLoader, random_split"
      ],
      "metadata": {
        "id": "dbNxL2rDV4FJ"
      },
      "execution_count": 35,
      "outputs": []
    },
    {
      "cell_type": "markdown",
      "source": [
        "### Extract Dataset from MNIST"
      ],
      "metadata": {
        "id": "JorVivdzZMXm"
      }
    },
    {
      "cell_type": "code",
      "source": [
        "train_data = MNIST(root='data/', train=True, download=True, transform=ToTensor())\n",
        "test_data = MNIST(root='data/', train=False, download=True, transform=ToTensor())"
      ],
      "metadata": {
        "colab": {
          "base_uri": "https://localhost:8080/"
        },
        "id": "TpToclKjYAnP",
        "outputId": "f4587f40-019b-471c-b764-e601f1c8dd2b"
      },
      "execution_count": 34,
      "outputs": [
        {
          "output_type": "stream",
          "name": "stdout",
          "text": [
            "Downloading http://yann.lecun.com/exdb/mnist/train-images-idx3-ubyte.gz\n",
            "Failed to download (trying next):\n",
            "<urlopen error [SSL: CERTIFICATE_VERIFY_FAILED] certificate verify failed: certificate has expired (_ssl.c:1007)>\n",
            "\n",
            "Downloading https://ossci-datasets.s3.amazonaws.com/mnist/train-images-idx3-ubyte.gz\n",
            "Downloading https://ossci-datasets.s3.amazonaws.com/mnist/train-images-idx3-ubyte.gz to data/MNIST/raw/train-images-idx3-ubyte.gz\n"
          ]
        },
        {
          "output_type": "stream",
          "name": "stderr",
          "text": [
            "100%|██████████| 9912422/9912422 [00:00<00:00, 121802176.27it/s]\n"
          ]
        },
        {
          "output_type": "stream",
          "name": "stdout",
          "text": [
            "Extracting data/MNIST/raw/train-images-idx3-ubyte.gz to data/MNIST/raw\n",
            "\n",
            "Downloading http://yann.lecun.com/exdb/mnist/train-labels-idx1-ubyte.gz\n",
            "Failed to download (trying next):\n",
            "<urlopen error [SSL: CERTIFICATE_VERIFY_FAILED] certificate verify failed: certificate has expired (_ssl.c:1007)>\n",
            "\n",
            "Downloading https://ossci-datasets.s3.amazonaws.com/mnist/train-labels-idx1-ubyte.gz\n",
            "Downloading https://ossci-datasets.s3.amazonaws.com/mnist/train-labels-idx1-ubyte.gz to data/MNIST/raw/train-labels-idx1-ubyte.gz\n"
          ]
        },
        {
          "output_type": "stream",
          "name": "stderr",
          "text": [
            "100%|██████████| 28881/28881 [00:00<00:00, 19690457.38it/s]"
          ]
        },
        {
          "output_type": "stream",
          "name": "stdout",
          "text": [
            "Extracting data/MNIST/raw/train-labels-idx1-ubyte.gz to data/MNIST/raw\n",
            "\n",
            "Downloading http://yann.lecun.com/exdb/mnist/t10k-images-idx3-ubyte.gz\n"
          ]
        },
        {
          "output_type": "stream",
          "name": "stderr",
          "text": [
            "\n"
          ]
        },
        {
          "output_type": "stream",
          "name": "stdout",
          "text": [
            "Failed to download (trying next):\n",
            "<urlopen error [SSL: CERTIFICATE_VERIFY_FAILED] certificate verify failed: certificate has expired (_ssl.c:1007)>\n",
            "\n",
            "Downloading https://ossci-datasets.s3.amazonaws.com/mnist/t10k-images-idx3-ubyte.gz\n",
            "Downloading https://ossci-datasets.s3.amazonaws.com/mnist/t10k-images-idx3-ubyte.gz to data/MNIST/raw/t10k-images-idx3-ubyte.gz\n"
          ]
        },
        {
          "output_type": "stream",
          "name": "stderr",
          "text": [
            "100%|██████████| 1648877/1648877 [00:00<00:00, 77382334.67it/s]\n"
          ]
        },
        {
          "output_type": "stream",
          "name": "stdout",
          "text": [
            "Extracting data/MNIST/raw/t10k-images-idx3-ubyte.gz to data/MNIST/raw\n",
            "\n",
            "Downloading http://yann.lecun.com/exdb/mnist/t10k-labels-idx1-ubyte.gz\n",
            "Failed to download (trying next):\n",
            "<urlopen error [SSL: CERTIFICATE_VERIFY_FAILED] certificate verify failed: certificate has expired (_ssl.c:1007)>\n",
            "\n",
            "Downloading https://ossci-datasets.s3.amazonaws.com/mnist/t10k-labels-idx1-ubyte.gz\n",
            "Downloading https://ossci-datasets.s3.amazonaws.com/mnist/t10k-labels-idx1-ubyte.gz to data/MNIST/raw/t10k-labels-idx1-ubyte.gz\n"
          ]
        },
        {
          "output_type": "stream",
          "name": "stderr",
          "text": [
            "100%|██████████| 4542/4542 [00:00<00:00, 5785159.05it/s]"
          ]
        },
        {
          "output_type": "stream",
          "name": "stdout",
          "text": [
            "Extracting data/MNIST/raw/t10k-labels-idx1-ubyte.gz to data/MNIST/raw\n",
            "\n"
          ]
        },
        {
          "output_type": "stream",
          "name": "stderr",
          "text": [
            "\n"
          ]
        }
      ]
    },
    {
      "cell_type": "markdown",
      "source": [
        "### Plot Train and Test Samples"
      ],
      "metadata": {
        "id": "gB3G3f9SZRKr"
      }
    },
    {
      "cell_type": "code",
      "source": [
        "def plot_examples(dataset):\n",
        "    fig, axes = plt.subplots(1, 5, figsize=(12, 3))\n",
        "    for i, ax in enumerate(axes):\n",
        "        image, label = dataset[i]\n",
        "        ax.imshow(image.squeeze(), cmap=\"gray\")\n",
        "\n",
        "    plt.show()"
      ],
      "metadata": {
        "id": "4BHpkIHmYR4L"
      },
      "execution_count": 39,
      "outputs": []
    },
    {
      "cell_type": "code",
      "source": [
        "plot_examples(train_data)"
      ],
      "metadata": {
        "colab": {
          "base_uri": "https://localhost:8080/",
          "height": 223
        },
        "id": "O1Mc54w0Yya4",
        "outputId": "638612c3-c796-4fd0-dc60-12cb99abbfdc"
      },
      "execution_count": 40,
      "outputs": [
        {
          "output_type": "display_data",
          "data": {
            "text/plain": [
              "<Figure size 1200x300 with 5 Axes>"
            ],
            "image/png": "[encoded data removed]"
          },
          "metadata": {}
        }
      ]
    },
    {
      "cell_type": "code",
      "source": [
        "plot_examples(test_data)"
      ],
      "metadata": {
        "colab": {
          "base_uri": "https://localhost:8080/",
          "height": 223
        },
        "id": "KqGSHftBY0Uc",
        "outputId": "945bc6f9-0eb5-4342-fa8f-23748b06b1b4"
      },
      "execution_count": 41,
      "outputs": [
        {
          "output_type": "display_data",
          "data": {
            "text/plain": [
              "<Figure size 1200x300 with 5 Axes>"
            ],
            "image/png": "[encoded data removed]"
          },
          "metadata": {}
        }
      ]
    },
    {
      "cell_type": "markdown",
      "source": [
        "### Split train-eval"
      ],
      "metadata": {
        "id": "zocC8rAQZdrj"
      }
    },
    {
      "cell_type": "code",
      "source": [
        "train_size = int(len(train_data) * 0.8)  # 80% for training\n",
        "eval_size = len(train_data) - train_size  # 20% for evaluation\n",
        "\n",
        "train_data, eval_data = random_split(train_data, [train_size, eval_size])"
      ],
      "metadata": {
        "id": "U9DRY0TEY3IX"
      },
      "execution_count": 139,
      "outputs": []
    },
    {
      "cell_type": "markdown",
      "source": [
        "### DataLoader"
      ],
      "metadata": {
        "id": "CgT-gt9WaIMy"
      }
    },
    {
      "cell_type": "code",
      "source": [
        "batch_size = 32\n",
        "\n",
        "train_loader = DataLoader(train_data, batch_size=batch_size, shuffle=True)\n",
        "eval_loader = DataLoader(eval_data, batch_size=batch_size, shuffle=False)\n",
        "test_loader = DataLoader(test_data, batch_size=batch_size, shuffle=False)"
      ],
      "metadata": {
        "id": "d-kt9uu7aFRq"
      },
      "execution_count": 140,
      "outputs": []
    },
    {
      "cell_type": "markdown",
      "source": [
        "### Loss Function\n",
        "\n",
        "In order to train any model, we need to be able to evalute its performance on the given task.\n",
        "This performance measure must be a smooth function that is typically referred to as **loss function**.\n",
        "The learning process will aim to minimize the loss function, as introduced in the [learning as an optimization task](https://borjarequena.github.io/Neural-Network-Course/course/introduction.html#learning-as-an-optimization-task) section from the introductory chapter.\n",
        "\n",
        "In this case, we have a classification problem with ten classes (digits from 0 to 9).\n",
        "Therefore, we will use the cross-entropy loss function $$\\mathcal{L}_{\\text{CE}} = -\\frac{1}{n}\\sum_i^n \\mathbf{y}_i^T\\log(f(\\mathbf{x}_i))\\,,$$ where $\\mathbf{y}_i$ is the one-hot-encoding vector of the true label, and $f(\\mathbf{x}_i)$ provides the predicted probability for sample $\\mathbf{x}_i$ to belong to each of the classes."
      ],
      "metadata": {
        "id": "cMXaHFWvaf2e"
      }
    },
    {
      "cell_type": "code",
      "source": [
        "def cross_entropy_loss(y_pred, y_true):\n",
        "    target_preds = y_pred[torch.arange(len(y_pred)), y_true]\n",
        "    return -torch.mean(torch.log(target_preds))"
      ],
      "metadata": {
        "id": "v1OFUye4aX0h"
      },
      "execution_count": 141,
      "outputs": []
    },
    {
      "cell_type": "code",
      "source": [
        "def accuracy(y_pred, y_true):\n",
        "    return (y_pred.argmax(dim=1) == y_true).float().mean()"
      ],
      "metadata": {
        "id": "kOpfeNOpa5HX"
      },
      "execution_count": 142,
      "outputs": []
    },
    {
      "cell_type": "markdown",
      "source": [
        "### Model\n",
        "\n",
        "The last ingredient for our learning task is a model that will encode the program to solve the task.\n",
        "In this case, we will start with a simple **fully-connected neural network**.\n",
        "In these networks, we distinguish between three types of layers:\n",
        "\n",
        "- The *input layer* contains the data values. In this case, it will be the pixel values.\n",
        "- The *output layer* contains the desired output. In this case, the probability for each class.\n",
        "- The *hidden layers* are all the layers between the input and output layers.\n",
        "\n",
        "Individual neurons perform simple calculations based on the signal received from by the neurons from the preceding layer.\n",
        "Typically, they perform a linear transformation followed by a non-linear *activation function* $\\xi$ of the form.\n",
        "\\begin{split}\n",
        "    z &= \\mathbf{\\omega}^T \\mathbf{x} + b = \\sum_i \\omega_i x_i + b\\\\\n",
        "    x &= \\xi(z)\\,.\n",
        "\\end{split}\n",
        "Here, $\\mathbf{x}$ denotes the activations of the neurons in the preceding layer, and the connection strength between each of those neurons is encoded in the *weight* vector $\\mathbf{\\omega}$.\n",
        "The neuron incorporates a bias $b$, and the resulting value of the linear transformation $z$ is known as the *logit*.\n",
        "Finally, the resulting activation of the neuron $x$ is determined by applying the non-linear activation function $\\xi$.\n",
        "\n",
        "We will start by initializing the parameters for our linear operations."
      ],
      "metadata": {
        "id": "Iu0t2caYbB54"
      }
    },
    {
      "cell_type": "code",
      "source": [
        "input_size = 28 * 28\n",
        "hidden_size = 500\n",
        "n_classes = 10"
      ],
      "metadata": {
        "id": "AXIUcl1bbR7D"
      },
      "execution_count": 143,
      "outputs": []
    },
    {
      "cell_type": "code",
      "source": [
        "# Input to hidden\n",
        "W1 = torch.randn(input_size, hidden_size) / torch.sqrt(torch.tensor(input_size))\n",
        "W1.requires_grad_()\n",
        "b = torch.zeros(hidden_size, requires_grad=True)\n",
        "\n",
        "# Hidden to output\n",
        "W2 = torch.randn(hidden_size, n_classes) / torch.sqrt(torch.tensor(hidden_size))\n",
        "W2.requires_grad_();"
      ],
      "metadata": {
        "id": "9HVCKF8va6pl"
      },
      "execution_count": 144,
      "outputs": []
    },
    {
      "cell_type": "markdown",
      "source": [
        "### Activation Function\n",
        "\n",
        "The activation functions can take any form, so long as it is non-linear, and they can be used to obtain the desired output.\n",
        "In this case, we will use the rectified linear unit (ReLU) activation function in the hidden layer $$\\text{ReLU}(z) = \\max(0, z)\\,,$$ and a softmax activation function in the output layer to normalize the logits as a probability distribution $$\\text{softmax}(z_i) = \\frac{e^{z_i}}{\\sum_k e^{z_k}}\\,.$$"
      ],
      "metadata": {
        "id": "ufjnyH24bj_S"
      }
    },
    {
      "cell_type": "code",
      "source": [
        "def relu(x):\n",
        "    return torch.maximum(torch.zeros_like(x), x)"
      ],
      "metadata": {
        "id": "R1Z6ccCsbgP7"
      },
      "execution_count": 145,
      "outputs": []
    },
    {
      "cell_type": "code",
      "source": [
        "def softmax(x):\n",
        "    return torch.exp(x) / torch.sum(torch.exp(x), axis=1, keepdim=True)"
      ],
      "metadata": {
        "id": "ByICkXEHbxfn"
      },
      "execution_count": 146,
      "outputs": []
    },
    {
      "cell_type": "markdown",
      "source": [
        "### Fully Connected Network from Scratch"
      ],
      "metadata": {
        "id": "1AkzonJ4s6QC"
      }
    },
    {
      "cell_type": "code",
      "source": [
        "def model(x):\n",
        "    x = x.reshape(-1, input_size)\n",
        "    z = x @ W1 + b\n",
        "    x = relu(z)\n",
        "    z = x @ W2\n",
        "    return softmax(z)"
      ],
      "metadata": {
        "id": "r0tCFqw_bzFv"
      },
      "execution_count": 147,
      "outputs": []
    },
    {
      "cell_type": "markdown",
      "source": [
        "### Training\n",
        "\n",
        "The typical learning procedure is:\n",
        "\n",
        "1. For every training batch\n",
        "    - Evaluate the model\n",
        "    - Compute the loss\n",
        "    - Compute the gradients of the parameters\n",
        "    - Update the parameters\n",
        "\n",
        "2. For every validation batch\n",
        "    - Evaluate the model\n",
        "    - Compute the loss\n",
        "\n",
        "3. Repeat 1 and 2 for every training epoch"
      ],
      "metadata": {
        "id": "XAHFdCyEcpw2"
      }
    },
    {
      "cell_type": "code",
      "source": [
        "def compute_loss_and_accuracy(loader, lr=0.001, data_type=\"train\"):\n",
        "  epoch_accuracy = []\n",
        "  epoch_true = []\n",
        "  epoch_pred = []\n",
        "  epoch_loss = 0\n",
        "\n",
        "  for x, y_true in loader:\n",
        "      y_pred = model(x)\n",
        "      loss = cross_entropy_loss(y_pred, y_true)\n",
        "\n",
        "      if data_type == \"train\":\n",
        "        loss.backward() #Back propagation\n",
        "\n",
        "        #Gradient-descent part\n",
        "        with torch.no_grad():\n",
        "            #update weights and biases\n",
        "            W1.data -= lr * W1.grad\n",
        "            W2.data -= lr * W2.grad\n",
        "            b.data -= lr * b.grad\n",
        "\n",
        "            #reset weights and biases\n",
        "            W1.grad.zero_()\n",
        "            W2.grad.zero_()\n",
        "            b.grad.zero_()\n",
        "\n",
        "      epoch_loss += loss.item()\n",
        "      epoch_true.append(y_true)\n",
        "      epoch_pred.append(y_pred)\n",
        "\n",
        "  epoch_accuracy = accuracy(torch.cat(epoch_pred), torch.cat(epoch_true))\n",
        "\n",
        "  return epoch_loss/len(loader), epoch_accuracy"
      ],
      "metadata": {
        "id": "OJeo2iOocisf"
      },
      "execution_count": 148,
      "outputs": []
    },
    {
      "cell_type": "code",
      "source": [
        "def train_model(epochs=10, lr=0.001):\n",
        "  train_losses = []\n",
        "  train_accuracies = []\n",
        "\n",
        "  eval_losses = []\n",
        "  eval_accuracies = []\n",
        "\n",
        "  for epoch in range(epochs):\n",
        "    train_loss, train_accuracy = compute_loss_and_accuracy(train_loader, lr)\n",
        "    train_losses.append(train_loss)\n",
        "    train_accuracies.append(train_accuracy)\n",
        "\n",
        "    print(f\"Epoch: {epoch}\")\n",
        "    print(f\"Train Loss: {train_loss:.4f}, Train Accuracy: {train_accuracy:.4f}\")\n",
        "\n",
        "    eval_loss, eval_accuracy = compute_loss_and_accuracy(eval_loader, lr, data_type=\"eval\")\n",
        "    eval_losses.append(eval_loss)\n",
        "    eval_accuracies.append(eval_accuracy)\n",
        "\n",
        "    print(f\"Eval Loss: {eval_loss:.4f}, Eval Accuracy: {eval_accuracy:.4f}\")\n",
        "\n",
        "  return train_losses, train_accuracies, eval_losses, eval_accuracies"
      ],
      "metadata": {
        "id": "XjRWeTkJgKQY"
      },
      "execution_count": 149,
      "outputs": []
    },
    {
      "cell_type": "code",
      "source": [
        "train_loss, train_accuracy, eval_loss, eval_accuracy = train_model(epochs=30, lr=0.001)"
      ],
      "metadata": {
        "colab": {
          "base_uri": "https://localhost:8080/"
        },
        "id": "RAvXKPkHhwmI",
        "outputId": "2cf128bf-3bcf-4d96-f03b-051bd72b804d"
      },
      "execution_count": 150,
      "outputs": [
        {
          "output_type": "stream",
          "name": "stdout",
          "text": [
            "Epoch: 0\n",
            "Train Loss: 2.0042, Train Accuracy: 0.4798\n",
            "Eval Loss: 1.7148, Eval Accuracy: 0.7036\n",
            "Epoch: 1\n",
            "Train Loss: 1.4731, Train Accuracy: 0.7497\n",
            "Eval Loss: 1.2627, Eval Accuracy: 0.7751\n",
            "Epoch: 2\n",
            "Train Loss: 1.1071, Train Accuracy: 0.7976\n",
            "Eval Loss: 0.9818, Eval Accuracy: 0.8070\n",
            "Epoch: 3\n",
            "Train Loss: 0.8876, Train Accuracy: 0.8229\n",
            "Eval Loss: 0.8151, Eval Accuracy: 0.8301\n",
            "Epoch: 4\n",
            "Train Loss: 0.7540, Train Accuracy: 0.8398\n",
            "Eval Loss: 0.7101, Eval Accuracy: 0.8435\n",
            "Epoch: 5\n",
            "Train Loss: 0.6670, Train Accuracy: 0.8507\n",
            "Eval Loss: 0.6394, Eval Accuracy: 0.8544\n",
            "Epoch: 6\n",
            "Train Loss: 0.6064, Train Accuracy: 0.8595\n",
            "Eval Loss: 0.5884, Eval Accuracy: 0.8618\n",
            "Epoch: 7\n",
            "Train Loss: 0.5618, Train Accuracy: 0.8654\n",
            "Eval Loss: 0.5503, Eval Accuracy: 0.8684\n",
            "Epoch: 8\n",
            "Train Loss: 0.5277, Train Accuracy: 0.8704\n",
            "Eval Loss: 0.5208, Eval Accuracy: 0.8721\n",
            "Epoch: 9\n",
            "Train Loss: 0.5007, Train Accuracy: 0.8750\n",
            "Eval Loss: 0.4972, Eval Accuracy: 0.8763\n",
            "Epoch: 10\n",
            "Train Loss: 0.4787, Train Accuracy: 0.8786\n",
            "Eval Loss: 0.4776, Eval Accuracy: 0.8797\n",
            "Epoch: 11\n",
            "Train Loss: 0.4605, Train Accuracy: 0.8816\n",
            "Eval Loss: 0.4615, Eval Accuracy: 0.8815\n",
            "Epoch: 12\n",
            "Train Loss: 0.4451, Train Accuracy: 0.8837\n",
            "Eval Loss: 0.4472, Eval Accuracy: 0.8858\n",
            "Epoch: 13\n",
            "Train Loss: 0.4318, Train Accuracy: 0.8859\n",
            "Eval Loss: 0.4355, Eval Accuracy: 0.8885\n",
            "Epoch: 14\n",
            "Train Loss: 0.4202, Train Accuracy: 0.8883\n",
            "Eval Loss: 0.4250, Eval Accuracy: 0.8908\n",
            "Epoch: 15\n",
            "Train Loss: 0.4100, Train Accuracy: 0.8896\n",
            "Eval Loss: 0.4157, Eval Accuracy: 0.8935\n",
            "Epoch: 16\n",
            "Train Loss: 0.4010, Train Accuracy: 0.8917\n",
            "Eval Loss: 0.4074, Eval Accuracy: 0.8945\n",
            "Epoch: 17\n",
            "Train Loss: 0.3929, Train Accuracy: 0.8928\n",
            "Eval Loss: 0.4000, Eval Accuracy: 0.8964\n",
            "Epoch: 18\n",
            "Train Loss: 0.3854, Train Accuracy: 0.8935\n",
            "Eval Loss: 0.3935, Eval Accuracy: 0.8977\n",
            "Epoch: 19\n",
            "Train Loss: 0.3786, Train Accuracy: 0.8952\n",
            "Eval Loss: 0.3872, Eval Accuracy: 0.8983\n",
            "Epoch: 20\n",
            "Train Loss: 0.3724, Train Accuracy: 0.8969\n",
            "Eval Loss: 0.3817, Eval Accuracy: 0.8990\n",
            "Epoch: 21\n",
            "Train Loss: 0.3667, Train Accuracy: 0.8979\n",
            "Eval Loss: 0.3763, Eval Accuracy: 0.8999\n",
            "Epoch: 22\n",
            "Train Loss: 0.3614, Train Accuracy: 0.8992\n",
            "Eval Loss: 0.3716, Eval Accuracy: 0.9005\n",
            "Epoch: 23\n",
            "Train Loss: 0.3565, Train Accuracy: 0.9013\n",
            "Eval Loss: 0.3670, Eval Accuracy: 0.9018\n",
            "Epoch: 24\n",
            "Train Loss: 0.3518, Train Accuracy: 0.9020\n",
            "Eval Loss: 0.3627, Eval Accuracy: 0.9021\n",
            "Epoch: 25\n",
            "Train Loss: 0.3474, Train Accuracy: 0.9039\n",
            "Eval Loss: 0.3588, Eval Accuracy: 0.9031\n",
            "Epoch: 26\n",
            "Train Loss: 0.3433, Train Accuracy: 0.9048\n",
            "Eval Loss: 0.3552, Eval Accuracy: 0.9033\n",
            "Epoch: 27\n",
            "Train Loss: 0.3395, Train Accuracy: 0.9052\n",
            "Eval Loss: 0.3515, Eval Accuracy: 0.9035\n",
            "Epoch: 28\n",
            "Train Loss: 0.3357, Train Accuracy: 0.9067\n",
            "Eval Loss: 0.3486, Eval Accuracy: 0.9048\n",
            "Epoch: 29\n",
            "Train Loss: 0.3321, Train Accuracy: 0.9077\n",
            "Eval Loss: 0.3455, Eval Accuracy: 0.9069\n"
          ]
        }
      ]
    },
    {
      "cell_type": "markdown",
      "source": [
        "### Plot Loss and Accuracy"
      ],
      "metadata": {
        "id": "GPG_Ln6Bnai4"
      }
    },
    {
      "cell_type": "code",
      "source": [
        "def plot_metrics(train_metric, eval_metric, metric_type=\"Loss\"):\n",
        "  plt.plot(train_metric, label=f\"Training {metric_type}\")\n",
        "  plt.plot(eval_metric, label=f\"Evaluation {metric_type}\")\n",
        "  plt.xlabel(\"Epochs\")\n",
        "  plt.ylabel(f\"{metric_type}\")\n",
        "  plt.grid()\n",
        "  plt.legend()"
      ],
      "metadata": {
        "id": "3yGrhxX5hzwa"
      },
      "execution_count": 151,
      "outputs": []
    },
    {
      "cell_type": "code",
      "source": [
        "plot_metrics(train_loss, eval_loss)"
      ],
      "metadata": {
        "colab": {
          "base_uri": "https://localhost:8080/",
          "height": 449
        },
        "id": "ZxScw7iujia_",
        "outputId": "ff65cbdc-1025-4cdb-d393-eedcd74c7d41"
      },
      "execution_count": 152,
      "outputs": [
        {
          "output_type": "display_data",
          "data": {
            "text/plain": [
              "<Figure size 640x480 with 1 Axes>"
            ],
            "image/png": "[encoded data removed]"
          },
          "metadata": {}
        }
      ]
    },
    {
      "cell_type": "code",
      "source": [
        "plot_metrics(train_accuracy, eval_accuracy, metric_type=\"Accuracy\")"
      ],
      "metadata": {
        "colab": {
          "base_uri": "https://localhost:8080/",
          "height": 449
        },
        "id": "1TnAJRdcjk_g",
        "outputId": "a893e00b-f96d-40fb-a0d5-3077d35fda8b"
      },
      "execution_count": 153,
      "outputs": [
        {
          "output_type": "display_data",
          "data": {
            "text/plain": [
              "<Figure size 640x480 with 1 Axes>"
            ],
            "image/png": "[encoded data removed]"
          },
          "metadata": {}
        }
      ]
    },
    {
      "cell_type": "markdown",
      "source": [
        "## Fully Connected Network using PyTorch\n"
      ],
      "metadata": {
        "id": "TG0XtW0Zs93m"
      }
    },
    {
      "cell_type": "code",
      "source": [
        "import torch.nn as nn\n",
        "import torch.nn.functional as F"
      ],
      "metadata": {
        "id": "szr6964dtE9O"
      },
      "execution_count": 154,
      "outputs": []
    },
    {
      "cell_type": "code",
      "source": [
        "class FullyConnected(nn.Module):\n",
        "    def __init__(self, input_size, hidden_size, output_size):\n",
        "        super().__init__()\n",
        "        self.linear_1 = nn.Linear(input_size, hidden_size)\n",
        "        self.linear_2 = nn.Linear(hidden_size, output_size, bias=False)\n",
        "\n",
        "    def forward(self, x):\n",
        "        x = x.reshape(-1, 28 * 28)\n",
        "        z = self.linear_1(x)\n",
        "        x = F.relu(z)\n",
        "        z = self.linear_2(x)\n",
        "        return z  # Notice we do not implement the softamx activation\n",
        "\n",
        "model_torch = FullyConnected(28 * 28, 500, 10)"
      ],
      "metadata": {
        "id": "Or9E9Fwqk98P"
      },
      "execution_count": 174,
      "outputs": []
    },
    {
      "cell_type": "code",
      "source": [
        "def compute_loss_and_accuracy_torch(model, optimizer, loader, lr=0.001, data_type=\"train\"):\n",
        "  epoch_accuracy = []\n",
        "  epoch_true = []\n",
        "  epoch_pred = []\n",
        "  epoch_loss = 0\n",
        "\n",
        "  for x, y_true in loader:\n",
        "      logits = model(x)\n",
        "      loss = F.cross_entropy(logits, y_true)\n",
        "      y_pred = F.softmax(logits, dim=1)\n",
        "\n",
        "      if data_type == \"train\":\n",
        "        loss.backward() #Back propagation\n",
        "        optimizer.step()\n",
        "        optimizer.zero_grad()\n",
        "\n",
        "      epoch_loss += loss.item()\n",
        "      epoch_true.append(y_true)\n",
        "      epoch_pred.append(y_pred)\n",
        "\n",
        "  epoch_accuracy = accuracy(torch.cat(epoch_pred), torch.cat(epoch_true))\n",
        "\n",
        "  return epoch_loss/len(loader), epoch_accuracy"
      ],
      "metadata": {
        "id": "5J1vxwWTtIko"
      },
      "execution_count": 175,
      "outputs": []
    },
    {
      "cell_type": "code",
      "source": [
        "def train_model_torch(model, epochs=10, lr=0.001):\n",
        "  optimizer = torch.optim.SGD(model.parameters(), lr=0.001)\n",
        "  train_losses = []\n",
        "  train_accuracies = []\n",
        "\n",
        "  eval_losses = []\n",
        "  eval_accuracies = []\n",
        "\n",
        "  for epoch in range(epochs):\n",
        "    train_loss, train_accuracy = compute_loss_and_accuracy_torch(model, optimizer, train_loader, lr)\n",
        "    train_losses.append(train_loss)\n",
        "    train_accuracies.append(train_accuracy)\n",
        "\n",
        "    print(f\"Epoch: {epoch}\")\n",
        "    print(f\"Train Loss: {train_loss:.4f}, Train Accuracy: {train_accuracy:.4f}\")\n",
        "\n",
        "    eval_loss, eval_accuracy = compute_loss_and_accuracy_torch(model, optimizer, eval_loader, lr, data_type=\"eval\")\n",
        "    eval_losses.append(eval_loss)\n",
        "    eval_accuracies.append(eval_accuracy)\n",
        "\n",
        "    print(f\"Eval Loss: {eval_loss:.4f}, Eval Accuracy: {eval_accuracy:.4f}\")\n",
        "\n",
        "  return train_losses, train_accuracies, eval_losses, eval_accuracies"
      ],
      "metadata": {
        "id": "GVdYUPJLuCO1"
      },
      "execution_count": 176,
      "outputs": []
    },
    {
      "cell_type": "code",
      "source": [
        "train_loss, train_accuracy, eval_loss, eval_accuracy = train_model_torch(model_torch, epochs=30, lr=0.001)"
      ],
      "metadata": {
        "colab": {
          "base_uri": "https://localhost:8080/"
        },
        "id": "uUxA4sjtuY3q",
        "outputId": "821f0ec9-b07a-494a-d5bf-e5a518531bfb"
      },
      "execution_count": 177,
      "outputs": [
        {
          "output_type": "stream",
          "name": "stdout",
          "text": [
            "Epoch: 0\n",
            "Train Loss: 2.1901, Train Accuracy: 0.3768\n",
            "Eval Loss: 2.0715, Eval Accuracy: 0.5796\n",
            "Epoch: 1\n",
            "Train Loss: 1.9323, Train Accuracy: 0.6686\n",
            "Eval Loss: 1.7787, Eval Accuracy: 0.7135\n",
            "Epoch: 2\n",
            "Train Loss: 1.6152, Train Accuracy: 0.7411\n",
            "Eval Loss: 1.4500, Eval Accuracy: 0.7526\n",
            "Epoch: 3\n",
            "Train Loss: 1.3050, Train Accuracy: 0.7741\n",
            "Eval Loss: 1.1721, Eval Accuracy: 0.7836\n",
            "Epoch: 4\n",
            "Train Loss: 1.0661, Train Accuracy: 0.8012\n",
            "Eval Loss: 0.9752, Eval Accuracy: 0.8066\n",
            "Epoch: 5\n",
            "Train Loss: 0.9012, Train Accuracy: 0.8192\n",
            "Eval Loss: 0.8412, Eval Accuracy: 0.8246\n",
            "Epoch: 6\n",
            "Train Loss: 0.7880, Train Accuracy: 0.8330\n",
            "Eval Loss: 0.7481, Eval Accuracy: 0.8374\n",
            "Epoch: 7\n",
            "Train Loss: 0.7076, Train Accuracy: 0.8436\n",
            "Eval Loss: 0.6803, Eval Accuracy: 0.8467\n",
            "Epoch: 8\n",
            "Train Loss: 0.6482, Train Accuracy: 0.8509\n",
            "Eval Loss: 0.6297, Eval Accuracy: 0.8543\n",
            "Epoch: 9\n",
            "Train Loss: 0.6027, Train Accuracy: 0.8579\n",
            "Eval Loss: 0.5896, Eval Accuracy: 0.8595\n",
            "Epoch: 10\n",
            "Train Loss: 0.5667, Train Accuracy: 0.8627\n",
            "Eval Loss: 0.5580, Eval Accuracy: 0.8633\n",
            "Epoch: 11\n",
            "Train Loss: 0.5376, Train Accuracy: 0.8671\n",
            "Eval Loss: 0.5321, Eval Accuracy: 0.8677\n",
            "Epoch: 12\n",
            "Train Loss: 0.5136, Train Accuracy: 0.8707\n",
            "Eval Loss: 0.5105, Eval Accuracy: 0.8725\n",
            "Epoch: 13\n",
            "Train Loss: 0.4934, Train Accuracy: 0.8743\n",
            "Eval Loss: 0.4927, Eval Accuracy: 0.8740\n",
            "Epoch: 14\n",
            "Train Loss: 0.4763, Train Accuracy: 0.8764\n",
            "Eval Loss: 0.4773, Eval Accuracy: 0.8785\n",
            "Epoch: 15\n",
            "Train Loss: 0.4615, Train Accuracy: 0.8783\n",
            "Eval Loss: 0.4632, Eval Accuracy: 0.8820\n",
            "Epoch: 16\n",
            "Train Loss: 0.4486, Train Accuracy: 0.8809\n",
            "Eval Loss: 0.4519, Eval Accuracy: 0.8820\n",
            "Epoch: 17\n",
            "Train Loss: 0.4373, Train Accuracy: 0.8818\n",
            "Eval Loss: 0.4414, Eval Accuracy: 0.8852\n",
            "Epoch: 18\n",
            "Train Loss: 0.4273, Train Accuracy: 0.8839\n",
            "Eval Loss: 0.4321, Eval Accuracy: 0.8874\n",
            "Epoch: 19\n",
            "Train Loss: 0.4183, Train Accuracy: 0.8853\n",
            "Eval Loss: 0.4240, Eval Accuracy: 0.8884\n",
            "Epoch: 20\n",
            "Train Loss: 0.4102, Train Accuracy: 0.8873\n",
            "Eval Loss: 0.4168, Eval Accuracy: 0.8901\n",
            "Epoch: 21\n",
            "Train Loss: 0.4028, Train Accuracy: 0.8891\n",
            "Eval Loss: 0.4098, Eval Accuracy: 0.8918\n",
            "Epoch: 22\n",
            "Train Loss: 0.3960, Train Accuracy: 0.8901\n",
            "Eval Loss: 0.4035, Eval Accuracy: 0.8919\n",
            "Epoch: 23\n",
            "Train Loss: 0.3900, Train Accuracy: 0.8913\n",
            "Eval Loss: 0.3979, Eval Accuracy: 0.8944\n",
            "Epoch: 24\n",
            "Train Loss: 0.3842, Train Accuracy: 0.8933\n",
            "Eval Loss: 0.3927, Eval Accuracy: 0.8948\n",
            "Epoch: 25\n",
            "Train Loss: 0.3790, Train Accuracy: 0.8948\n",
            "Eval Loss: 0.3878, Eval Accuracy: 0.8964\n",
            "Epoch: 26\n",
            "Train Loss: 0.3742, Train Accuracy: 0.8948\n",
            "Eval Loss: 0.3836, Eval Accuracy: 0.8973\n",
            "Epoch: 27\n",
            "Train Loss: 0.3696, Train Accuracy: 0.8961\n",
            "Eval Loss: 0.3790, Eval Accuracy: 0.8992\n",
            "Epoch: 28\n",
            "Train Loss: 0.3652, Train Accuracy: 0.8970\n",
            "Eval Loss: 0.3750, Eval Accuracy: 0.8995\n",
            "Epoch: 29\n",
            "Train Loss: 0.3611, Train Accuracy: 0.8982\n",
            "Eval Loss: 0.3718, Eval Accuracy: 0.8991\n"
          ]
        }
      ]
    },
    {
      "cell_type": "code",
      "source": [
        "plot_metrics(train_loss, eval_loss)"
      ],
      "metadata": {
        "colab": {
          "base_uri": "https://localhost:8080/",
          "height": 449
        },
        "id": "3vbCs28Iuk5l",
        "outputId": "69181ec0-5c35-4ec8-cd5b-d8c8b0bc9b6f"
      },
      "execution_count": 178,
      "outputs": [
        {
          "output_type": "display_data",
          "data": {
            "text/plain": [
              "<Figure size 640x480 with 1 Axes>"
            ],
            "image/png": "[encoded data removed]"
          },
          "metadata": {}
        }
      ]
    },
    {
      "cell_type": "code",
      "source": [
        "plot_metrics(train_accuracy, eval_accuracy, metric_type=\"Accuracy\")"
      ],
      "metadata": {
        "colab": {
          "base_uri": "https://localhost:8080/",
          "height": 449
        },
        "id": "uegPU7ituxoB",
        "outputId": "e693ebfc-0f1a-4bd2-a2f5-a714d9a3ada9"
      },
      "execution_count": 179,
      "outputs": [
        {
          "output_type": "display_data",
          "data": {
            "text/plain": [
              "<Figure size 640x480 with 1 Axes>"
            ],
            "image/png": "[encoded data removed]"
          },
          "metadata": {}
        }
      ]
    },
    {
      "cell_type": "code",
      "source": [],
      "metadata": {
        "id": "YYYwDrA7w0hb"
      },
      "execution_count": null,
      "outputs": []
    }
  ]
}